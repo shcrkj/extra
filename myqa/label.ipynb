{
 "cells": [
  {
   "cell_type": "markdown",
   "metadata": {},
   "source": [
    "# Label speaker by click buttons\n",
    "\n",
    "By LongGang Pang\n",
    "\n",
    "Try to use the widgets in jupyter notebook to design one software to label the data using clicking on \n",
    "buttons."
   ]
  },
  {
   "cell_type": "code",
   "execution_count": 1,
   "metadata": {},
   "outputs": [],
   "source": [
    "filename = 'qa.txt'\n",
    "txtlines = []\n",
    "def readtxt():\n",
    "    with open(filename, 'r') as file_to_read:\n",
    "        lines = file_to_read.readlines()\n",
    "        for line in lines:\n",
    "            line = line.replace('\\n','')\n",
    "            a=line.split('|||')\n",
    "            txtlines.append(a)\n",
    "    return txtlines\n",
    "qatxt = readtxt()\n",
    "# print(qatxt)"
   ]
  },
  {
   "cell_type": "code",
   "execution_count": 2,
   "metadata": {},
   "outputs": [
    {
     "name": "stderr",
     "output_type": "stream",
     "text": [
      "/home/z/anaconda3/lib/python3.6/site-packages/IPython/html.py:14: ShimWarning: The `IPython.html` package has been deprecated since IPython 4.0. You should import from `notebook` instead. `IPython.html.widgets` has moved to `ipywidgets`.\n",
      "  \"`IPython.html.widgets` has moved to `ipywidgets`.\", ShimWarning)\n"
     ]
    }
   ],
   "source": [
    "from ipywidgets import *\n",
    "from IPython.display import display\n",
    "from IPython.html import widgets\n",
    "from IPython.display import clear_output\n",
    "import json\n",
    "import ast"
   ]
  },
  {
   "cell_type": "code",
   "execution_count": 3,
   "metadata": {},
   "outputs": [],
   "source": [
    "class ToButtons(object):\n",
    "    def __init__(self, input_str):\n",
    "        self.q_str = input_str[0]\n",
    "        self.a_str = input_str[1]\n",
    "        self.input_str = input_str[1].split()\n",
    "        print(\"question:\",self.q_str)\n",
    "        print(\"context:\",self.a_str)\n",
    "        self.res = None\n",
    "        self.buttons = []\n",
    "        self.pos_labels = []\n",
    "        item_layout = Layout(height='40px', min_width='40px', max_width='80px')\n",
    "        items = [Button(layout=item_layout, \n",
    "                        description=self.input_str[i],\n",
    "                        tooltip = str(i),\n",
    "#                         value = i,\n",
    "                        button_style='info')\n",
    "                 for i in range(len(self.input_str))]\n",
    "        \n",
    "        box_layout = Layout(\n",
    "                    border='3px solid black',\n",
    "                    width='800px',\n",
    "                    height='',\n",
    "                    flex_flow='row wrap',\n",
    "                    display='flex')\n",
    "        carousel = Box(children=items, layout=box_layout)\n",
    "        display(carousel)\n",
    "        \n",
    "        for item in items:\n",
    "#             print(item)\n",
    "            item.on_click(self.on_button_clicked)\n",
    "        \n",
    "            \n",
    "    # function to deal with the checkbox update button       \n",
    "    def on_button_clicked(self, b):\n",
    "#         print(\"b\",b)\n",
    "#         print(\"description\",b.description)\n",
    "#         print(\"tooltip:\", b.tooltip)\n",
    "#         print(int(b.tooltip))\n",
    "#         self.pos_labels.append(b.value)\n",
    "        self.pos_labels.append(int(b.tooltip))\n",
    "#         print(\"answer\",self.pos_labels)\n",
    "        print(\"istart:\",self.pos_labels[0])\n",
    "        print(\"iend:\",self.pos_labels[-1]+1)\n",
    "\n",
    "        if len(self.pos_labels) > 2:\n",
    "            #raise ValueError(\"only click the start and the end word\")\n",
    "            print(\"Warning: click more than 2 times, will use the last click \\\n",
    "                  as the end of the label position\")\n",
    "            \n",
    "    def return_results(self):\n",
    "        if len(self.pos_labels) == 0:\n",
    "            self.pos_labels.append(-1)\n",
    "        return self.input_str, self.q_str, self.a_str, self.pos_labels[0], self.pos_labels[-1]+1\n",
    "\n",
    "\n",
    "    \n",
    "class LabelSpeaker(object):\n",
    "    def __init__(self, talk_list, progress=0, save_to='label_qa.txt'):\n",
    "        self.progress = progress\n",
    "        self.saving_path = save_to\n",
    "        self.talk_list = talk_list\n",
    "#         self.sentence_buttons = ToButtons(talk_list[self.progress]['context'])\n",
    "        self.sentence_buttons = ToButtons(talk_list[self.progress])\n",
    "        self.submit_layout = Layout(height='40px', min_width='40px')\n",
    "        self.submit = Button(layout=self.submit_layout, \n",
    "                        description=\"submit\",\n",
    "                       button_style='warning')\n",
    "        self.submit.on_click(self.on_button_submit)\n",
    "        display(self.submit)        \n",
    "\n",
    "        \n",
    "    def save_one_item(self, progress, sentence, q_str, a_str, istart, iend):\n",
    "        speaker = None\n",
    "        if istart != -1: answers = sentence[istart:iend]\n",
    "        answer=''\n",
    "        for k in answers:\n",
    "            if not answer=='':\n",
    "                answer=answer+' '\n",
    "            answer=answer+k\n",
    "        res = {'uid':progress, 'question':q_str, 'context':a_str,#'context':sentence,\n",
    "               'answer':answer,\n",
    "               'istart':istart, 'iend':iend}\n",
    "        with open(self.saving_path, 'a') as f:\n",
    "            f.write(res.__repr__())\n",
    "            f.write('\\n')\n",
    "        \n",
    "    def on_button_submit(self, b):\n",
    "        sentence, q_str, a_str, istart, iend = self.sentence_buttons.return_results()\n",
    "        print(sentence[istart:iend],istart,iend)\n",
    "        self.save_one_item(self.progress, sentence, q_str, a_str, istart, iend)\n",
    "        clear_output()\n",
    "#         while True:\n",
    "        self.progress = self.progress + 1\n",
    "#         print(sentence[istart:iend],istart,iend)\n",
    "#         print(self.progress)\n",
    "#             new_sentence = self.talk_list[self.progress]['context']\n",
    "        new_sentence = self.talk_list[self.progress]\n",
    "#             existed, res = check_existence(new_sentence, self.progress)\n",
    "# #             existed = True\n",
    "#             if existed: \n",
    "#                 self.save_one_item(self.progress, new_sentence,\n",
    "#                                       res['istart'], res['iend'])\n",
    "#             else:\n",
    "#                 break\n",
    "        #### after check exist \n",
    "        self.sentence_buttons = ToButtons(new_sentence)\n",
    "        self.submit = Button(layout=self.submit_layout, \n",
    "                        description=\"submit\",\n",
    "                       button_style='warning')\n",
    "        self.submit.on_click(self.on_button_submit)\n",
    "        display(self.submit)"
   ]
  },
  {
   "cell_type": "code",
   "execution_count": 4,
   "metadata": {},
   "outputs": [
    {
     "ename": "IndexError",
     "evalue": "list index out of range",
     "output_type": "error",
     "traceback": [
      "\u001b[0;31m---------------------------------------------------------------------------\u001b[0m",
      "\u001b[0;31mIndexError\u001b[0m                                Traceback (most recent call last)",
      "\u001b[0;32m<ipython-input-3-3500484af557>\u001b[0m in \u001b[0;36mon_button_submit\u001b[0;34m(self, b)\u001b[0m\n\u001b[1;32m     94\u001b[0m \u001b[0;31m#         print(self.progress)\u001b[0m\u001b[0;34m\u001b[0m\u001b[0;34m\u001b[0m\u001b[0;34m\u001b[0m\u001b[0m\n\u001b[1;32m     95\u001b[0m \u001b[0;31m#             new_sentence = self.talk_list[self.progress]['context']\u001b[0m\u001b[0;34m\u001b[0m\u001b[0;34m\u001b[0m\u001b[0;34m\u001b[0m\u001b[0m\n\u001b[0;32m---> 96\u001b[0;31m         \u001b[0mnew_sentence\u001b[0m \u001b[0;34m=\u001b[0m \u001b[0mself\u001b[0m\u001b[0;34m.\u001b[0m\u001b[0mtalk_list\u001b[0m\u001b[0;34m[\u001b[0m\u001b[0mself\u001b[0m\u001b[0;34m.\u001b[0m\u001b[0mprogress\u001b[0m\u001b[0;34m]\u001b[0m\u001b[0;34m\u001b[0m\u001b[0;34m\u001b[0m\u001b[0m\n\u001b[0m\u001b[1;32m     97\u001b[0m \u001b[0;31m#             existed, res = check_existence(new_sentence, self.progress)\u001b[0m\u001b[0;34m\u001b[0m\u001b[0;34m\u001b[0m\u001b[0;34m\u001b[0m\u001b[0m\n\u001b[1;32m     98\u001b[0m \u001b[0;31m# #             existed = True\u001b[0m\u001b[0;34m\u001b[0m\u001b[0;34m\u001b[0m\u001b[0;34m\u001b[0m\u001b[0m\n",
      "\u001b[0;31mIndexError\u001b[0m: list index out of range"
     ]
    }
   ],
   "source": [
    "b2 = LabelSpeaker(qatxt,progress=0)#progress为上次标注的最后一行行号"
   ]
  },
  {
   "cell_type": "code",
   "execution_count": null,
   "metadata": {},
   "outputs": [],
   "source": []
  }
 ],
 "metadata": {
  "kernelspec": {
   "display_name": "Python 3",
   "language": "python",
   "name": "python3"
  },
  "language_info": {
   "codemirror_mode": {
    "name": "ipython",
    "version": 3
   },
   "file_extension": ".py",
   "mimetype": "text/x-python",
   "name": "python",
   "nbconvert_exporter": "python",
   "pygments_lexer": "ipython3",
   "version": "3.6.8"
  }
 },
 "nbformat": 4,
 "nbformat_minor": 2
}
